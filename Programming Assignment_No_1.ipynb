{
 "cells": [
  {
   "cell_type": "markdown",
   "id": "5728542a",
   "metadata": {},
   "source": [
    "# Programming Assignment_No.1"
   ]
  },
  {
   "cell_type": "code",
   "execution_count": 1,
   "id": "ea894a87",
   "metadata": {},
   "outputs": [
    {
     "name": "stdout",
     "output_type": "stream",
     "text": [
      "Hello Python\n"
     ]
    }
   ],
   "source": [
    "#Question No. 1:- Write a Python program to print \"Hello Python\"?\n",
    "\n",
    "a = (\"Hello Python\")\n",
    "print(a)"
   ]
  },
  {
   "cell_type": "code",
   "execution_count": 2,
   "id": "cff8744f",
   "metadata": {},
   "outputs": [
    {
     "name": "stdout",
     "output_type": "stream",
     "text": [
      "enter the number: 5\n",
      "enter the number: 3\n",
      "Addition of two number is:  8\n",
      "Division of two number is:  1.6666666666666667\n"
     ]
    }
   ],
   "source": [
    "#Question No. 2:- 2.\tWrite a Python program to do arithmetical operations addition and division.?\n",
    "\n",
    "a = int(input(\"enter the number: \"))\n",
    "b = int(input(\"enter the number: \"))\n",
    "\n",
    "print(\"Addition of two number is: \", a+b)\n",
    "print(\"Division of two number is: \", a/b)"
   ]
  },
  {
   "cell_type": "code",
   "execution_count": 3,
   "id": "264c12e8",
   "metadata": {},
   "outputs": [
    {
     "name": "stdout",
     "output_type": "stream",
     "text": [
      "Enter first side: 5\n",
      "Enter second side: 6\n",
      "Enter third side: 7\n",
      "The are of triangle is:  14.696938456699069\n"
     ]
    }
   ],
   "source": [
    "#Question No. 3:- Write a Python program to find the area of a triangle?\n",
    "\n",
    "a = float(input('Enter first side: '))  \n",
    "b = float(input('Enter second side: '))  \n",
    "c = float(input('Enter third side: ')) \n",
    "\n",
    "s = (a+b+c)/2\n",
    "\n",
    "area = (s*(s-a)*(s-b)*(s-c)) ** 0.5 \n",
    "\n",
    "print(\"The are of triangle is: \", area)"
   ]
  },
  {
   "cell_type": "code",
   "execution_count": 4,
   "id": "e2978e7c",
   "metadata": {},
   "outputs": [
    {
     "name": "stdout",
     "output_type": "stream",
     "text": [
      "Enter value of x: 34\n",
      "Enter value of y: 54\n",
      "The value of x after swapping: 54\n",
      "The value of y after swapping: 34\n"
     ]
    }
   ],
   "source": [
    "#Question No. 4:- Write a Python program to swap two variables?\n",
    "\n",
    "x = input('Enter value of x: ')\n",
    "y = input('Enter value of y: ')\n",
    "\n",
    "temp = x\n",
    "x = y\n",
    "y = temp\n",
    "\n",
    "print('The value of x after swapping: {}'.format(x))\n",
    "print('The value of y after swapping: {}'.format(y))"
   ]
  },
  {
   "cell_type": "code",
   "execution_count": 6,
   "id": "f9518ff1",
   "metadata": {},
   "outputs": [
    {
     "name": "stdout",
     "output_type": "stream",
     "text": [
      "7\n"
     ]
    }
   ],
   "source": [
    "#Question No. 5:- Write a Python program to generate a random number?\n",
    "\n",
    "import random\n",
    "\n",
    "random1 = random.randint(0, 11)\n",
    "print(random1)"
   ]
  },
  {
   "cell_type": "code",
   "execution_count": null,
   "id": "90c71d44",
   "metadata": {},
   "outputs": [],
   "source": []
  }
 ],
 "metadata": {
  "kernelspec": {
   "display_name": "Python 3 (ipykernel)",
   "language": "python",
   "name": "python3"
  },
  "language_info": {
   "codemirror_mode": {
    "name": "ipython",
    "version": 3
   },
   "file_extension": ".py",
   "mimetype": "text/x-python",
   "name": "python",
   "nbconvert_exporter": "python",
   "pygments_lexer": "ipython3",
   "version": "3.9.7"
  }
 },
 "nbformat": 4,
 "nbformat_minor": 5
}
